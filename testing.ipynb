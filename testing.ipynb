{
 "cells": [
  {
   "cell_type": "code",
   "execution_count": 15,
   "metadata": {},
   "outputs": [],
   "source": [
    "dem_datasets = {\n",
    "    \"ASTER Global Digital Elevation Model (GDEM)\": {\n",
    "        \"ID\": \"NASA/ASTER_GED/AG100_003\",\n",
    "        \"Resolution\": [30],\n",
    "        \"Coverage\": \"Global\",\n",
    "        \"Description\": \"ASTER's elevation data are generated from the ASTER instrument on NASA's Terra satellite.\",\n",
    "        \"Info\": \"ID: NASA/ASTER_GED/AG100_003, Resolution: 30 meters, Coverage: Global, Description: ASTER's elevation data are generated from the ASTER instrument on NASA's Terra satellite.\"\n",
    "    },\n",
    "    \"Copernicus Global Digital Elevation Model (GLO-30)\": {\n",
    "        \"ID\": \"COPERNICUS/DEM/GLO30\",\n",
    "        \"Resolution\": [30],\n",
    "        \"Coverage\": \"Global\",\n",
    "        \"Description\": \"A public global DEM produced by Copernicus (available in 30 and 90 m versions).\",\n",
    "        \"Info\": \"ID: COPERNICUS/DEM/GLO30, Resolution: 30 meters, Coverage: Global, Description: A public global DEM produced by Copernicus (available in 30 and 90 m versions).\"\n",
    "    },\n",
    "    \"JAXA ALOS Global Digital Surface Model (AW3D30)\": {\n",
    "        \"ID\": \"JAXA/ALOS/AW3D30/V3_2\",\n",
    "        \"Resolution\": [30],\n",
    "        \"Coverage\": \"Global\",\n",
    "        \"Description\": \"Developed by the Japan Aerospace Exploration Agency, ALOS provides a DSM generated from radar data.\",\n",
    "        \"Info\": \"ID: JAXA/ALOS/AW3D30/V3_2, Resolution: 30 meters, Coverage: Global, Description: Developed by the Japan Aerospace Exploration Agency, ALOS provides a DSM generated from radar data.\"\n",
    "    },\n",
    "    \"GMTED2010 (Global Multi-resolution Terrain Elevation Data 2010)\": {\n",
    "        \"ID\": \"USGS/GMTED2010\",\n",
    "        \"Resolution\": [250, 500, 1000],\n",
    "        \"Coverage\": \"Global\",\n",
    "        \"Description\": \"Replaces GTOPO30 with updated global elevation data at multiple resolutions.\",\n",
    "        \"Info\": \"ID: USGS/GMTED2010, Resolution: 250, 500, and 1000 meters, Coverage: Global, Description: Replaces GTOPO30 with updated global elevation data at multiple resolutions.\"\n",
    "    },\n",
    "    \"NASADEM\": {\n",
    "        \"ID\": \"NASA/NASADEM_HGT\",\n",
    "        \"Resolution\": [30],\n",
    "        \"Coverage\": \"Global\",\n",
    "        \"Description\": \"A refined version of the original SRTM data, updated to correct issues in certain regions.\",\n",
    "        \"Info\": \"ID: NASA/NASADEM_HGT, Resolution: 30 meters, Coverage: Global, Description: A refined version of the original SRTM data, updated to correct issues in certain regions.\"\n",
    "    }\n",
    "}\n"
   ]
  },
  {
   "cell_type": "code",
   "execution_count": 22,
   "metadata": {},
   "outputs": [
    {
     "data": {
      "text/plain": [
       "['ASTER Global Digital Elevation Model (GDEM)',\n",
       " 'Copernicus Global Digital Elevation Model (GLO-30)',\n",
       " 'JAXA ALOS Global Digital Surface Model (AW3D30)',\n",
       " 'GMTED2010 (Global Multi-resolution Terrain Elevation Data 2010)',\n",
       " 'NASADEM']"
      ]
     },
     "execution_count": 22,
     "metadata": {},
     "output_type": "execute_result"
    }
   ],
   "source": [
    "list(dem_datasets.keys())\n"
   ]
  },
  {
   "cell_type": "code",
   "execution_count": 14,
   "metadata": {},
   "outputs": [
    {
     "data": {
      "text/plain": [
       "\"ID: NASA/ASTER_GED/AG100_003, Resolution: 30 meters, Coverage: Global, Description: ASTER's elevation data are generated from the ASTER instrument on NASA's Terra satellite.\""
      ]
     },
     "execution_count": 14,
     "metadata": {},
     "output_type": "execute_result"
    }
   ],
   "source": [
    "dem_datasets['ASTER Global Digital Elevation Model (GDEM)']['Info']\n"
   ]
  }
 ],
 "metadata": {
  "kernelspec": {
   "display_name": "base",
   "language": "python",
   "name": "python3"
  },
  "language_info": {
   "codemirror_mode": {
    "name": "ipython",
    "version": 3
   },
   "file_extension": ".py",
   "mimetype": "text/x-python",
   "name": "python",
   "nbconvert_exporter": "python",
   "pygments_lexer": "ipython3",
   "version": "3.12.4"
  }
 },
 "nbformat": 4,
 "nbformat_minor": 2
}
